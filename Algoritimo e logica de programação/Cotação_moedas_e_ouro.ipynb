{
  "nbformat": 4,
  "nbformat_minor": 0,
  "metadata": {
    "colab": {
      "provenance": []
    },
    "kernelspec": {
      "name": "python3",
      "display_name": "Python 3"
    },
    "language_info": {
      "name": "python"
    }
  },
  "cells": [
    {
      "cell_type": "code",
      "source": [
        "import time\n",
        "import pandas as pd\n",
        "import requests\n",
        "from bs4 import BeautifulSoup\n",
        "\n",
        "urls = ['https://www.remessaonline.com.br/cotacao/cotacao-', 'https://goldrate.com/pt-br/grama-do-ouro-preco-cotacao'\n",
        "                                                             '-valor/']\n",
        "url_planilha = \"https://drive.google.com/uc?id=1VwVRMIUuEAhjMx66vI91sIS8yqiGhLyP\"\n",
        "output = \"planilha.xlsx\"\n",
        "\n",
        "\n",
        "def obter_cotacao(num, moeda_origem):\n",
        "    url = urls[num] + moeda_origem\n",
        "    try:\n",
        "        response = requests.get(url, timeout=60)\n",
        "    except (requests.ConnectionError, requests.Timeout) as e:\n",
        "        df.at[index, 'Cotação'] = 0\n",
        "        time.sleep(1)\n",
        "    html = response.content\n",
        "    soup = BeautifulSoup(html, 'html.parser')\n",
        "    if num == 0:\n",
        "        rate = soup.find('div', {'class': 'style__Text-sc-1a6mtr6-2'}).text\n",
        "        rate_int = rate.replace(',', '.').replace('Reais', '').strip()\n",
        "    else:\n",
        "        rate = soup.find('em', {'class': 'price-value'}).text\n",
        "        rate_int = rate.strip()\n",
        "    return float(rate_int)\n",
        "\n",
        "\n",
        "df = pd.read_excel(url_planilha, engine='openpyxl')\n",
        "df['Cotação'] = float('NaN')\n",
        "\n",
        "for index, row in df.iterrows():\n",
        "    moeda = row['Moeda'].lower()\n",
        "    if moeda == 'ouro':\n",
        "        cotacao_moeda = obter_cotacao(1, '')\n",
        "    else:\n",
        "        cotacao_moeda = obter_cotacao(0, moeda)\n",
        "    df.at[index, 'Cotação'] = cotacao_moeda\n",
        "    df.at[index, 'Preço de Compra'] = (cotacao_moeda * df.at[index, 'Preço Original']).round(2)\n",
        "    df.at[index, 'Preço de Venda'] = (df.at[index, 'Margem'.replace(',', '.')] * df.at[index, 'Preço de Compra']).round(\n",
        "        2)\n",
        "\n",
        "df.to_excel(output, index=False)\n",
        "\n",
        "print(df)\n"
      ],
      "metadata": {
        "id": "flAl_8NrE7_n",
        "colab": {
          "base_uri": "https://localhost:8080/"
        },
        "outputId": "9f163565-0592-4a87-9347-5714030435e4"
      },
      "execution_count": 1,
      "outputs": [
        {
          "output_type": "stream",
          "name": "stdout",
          "text": [
            "         Produtos  Preço Original  Moeda  Cotação  Preço de Compra  Margem  \\\n",
            "0    Câmera Canon          999.99  Dólar     4.82          4819.95    1.40   \n",
            "1   Carro Renault         4500.00   Euro     5.27         23715.00    2.00   \n",
            "2   Notebook Dell          899.99  Dólar     4.82          4337.95    1.70   \n",
            "3          IPhone          799.00  Dólar     4.82          3851.18    1.70   \n",
            "4      Carro Fiat         3000.00   Euro     5.27         15810.00    1.90   \n",
            "5  Celular Xiaomi          480.48  Dólar     4.82          2315.91    2.00   \n",
            "6        Joia 20g           20.00   Ouro   303.72          6074.40    1.15   \n",
            "\n",
            "   Preço de Venda  \n",
            "0         6747.93  \n",
            "1        47430.00  \n",
            "2         7374.52  \n",
            "3         6547.01  \n",
            "4        30039.00  \n",
            "5         4631.82  \n",
            "6         6985.56  \n"
          ]
        }
      ]
    }
  ]
}