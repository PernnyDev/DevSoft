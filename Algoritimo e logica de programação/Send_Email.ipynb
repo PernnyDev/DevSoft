{
  "nbformat": 4,
  "nbformat_minor": 0,
  "metadata": {
    "colab": {
      "provenance": []
    },
    "kernelspec": {
      "name": "python3",
      "display_name": "Python 3"
    },
    "language_info": {
      "name": "python"
    }
  },
  "cells": [
    {
      "cell_type": "code",
      "execution_count": null,
      "metadata": {
        "colab": {
          "base_uri": "https://localhost:8080/"
        },
        "id": "rv5jgKuj2o9n",
        "outputId": "dc67d394-e231-47e2-9788-f75c4b9e744d"
      },
      "outputs": [
        {
          "output_type": "stream",
          "name": "stdout",
          "text": [
            "Endereço de e-mail do remetente: allan.santos59@fatec.sp.gov.br\n",
            "Senha do remetente: ··········\n",
            "Endereços de e-mail dos destinatários separados por vírgula: allannascimentodossantos@gmail.com\n",
            "Deseja personalizar o assunto - (s/n). n\n",
            "Extraindo dados do Google Drive...\n",
            "Dados extraídos com sucesso!\n",
            "\n",
            "Enviando e-mail...\n",
            "E-mail enviado com sucesso!\n"
          ]
        }
      ],
      "source": [
        "import io\n",
        "import re\n",
        "import smtplib\n",
        "import openpyxl\n",
        "import getpass\n",
        "import requests\n",
        "import locale\n",
        "import pandas as pd\n",
        "from email.mime.multipart import MIMEMultipart\n",
        "from email.mime.text import MIMEText\n",
        "\n",
        "def extract_data():\n",
        "    print(\"Extraindo dados do Google Drive...\")\n",
        "    try:\n",
        "        url = 'https://drive.google.com/drive/folders/14oLE59U1RqyRqlBbKpsyymW-mitvbtoh'\n",
        "        response = requests.get(url)\n",
        "        file_id = re.findall(r'data-id=\"([a-zA-Z0-9_-]{28,})\"', response.text)[0]\n",
        "        url_file = f'https://drive.google.com/uc?id={file_id}&export=download'\n",
        "        content = io.BytesIO(requests.get(url_file).content)\n",
        "        df = pd.read_excel(content)\n",
        "        total_qty = df['Quantidade'].sum()\n",
        "        total_val = df['Valor Final'].sum()\n",
        "        locale.setlocale(locale.LC_ALL, '')\n",
        "        total_val_formatted = locale.format_string(\"%.2f\", total_val, grouping=True)\n",
        "        print(\"Dados extraídos com sucesso!\\n\")\n",
        "        return total_qty, total_val_formatted\n",
        "    except Exception as e:\n",
        "        print(\"Erro ao extrair dados:\", e)\n",
        "        return None\n",
        "\n",
        "def send_email(email, password, recipients, subject, total_qty, total_val):\n",
        "    print(\"Enviando e-mail...\")\n",
        "    body = f'Prezados, Bom dia.\\n\\nO faturamento de ontem foi de: R$ {total_val}\\nA quantidade de produtos ' \\\n",
        "           f'vendidos foi de: {total_qty}\\n\\nAbs\\nAllan Santos'\n",
        "    msg = MIMEMultipart()\n",
        "    msg['From'] = email\n",
        "    msg['To'] = \", \".join(recipients)\n",
        "    msg['Subject'] = subject\n",
        "    msg.attach(MIMEText(body, 'plain'))\n",
        "    try:\n",
        "        server = smtplib.SMTP('smtp.office365.com', 587)\n",
        "        server.starttls()\n",
        "        server.login(email, password)\n",
        "        password = ''\n",
        "        text = msg.as_string()\n",
        "        server.sendmail(email, recipients, text)\n",
        "        server.quit()\n",
        "        print(\"E-mail enviado com sucesso!\")\n",
        "    except Exception as e:\n",
        "        print(\"Erro ao enviar e-mail:\", e)\n",
        "        exit(1)\n",
        "\n",
        "if __name__ == '__main__':\n",
        "    email = input('Endereço de e-mail do remetente: ')\n",
        "    password = getpass.getpass('Senha do remetente: ')\n",
        "    recipients = input('Endereços de e-mail dos destinatários separados por vírgula: ').split(',')\n",
        "    subject = input('Assunto do e-mail: ') if input(\n",
        "        'Deseja personalizar o assunto - (s/n). ').lower() == 's' else 'Faturamento '\n",
        "\n",
        "    data = extract_data()\n",
        "    if data:\n",
        "        total_qty, total_val = data\n",
        "        send_email(email, password, recipients, subject, total_qty, total_val)\n",
        "    else:\n",
        "        print(\"Não foi possível extrair os dados do Google Drive.\")"
      ]
    }
  ]
}